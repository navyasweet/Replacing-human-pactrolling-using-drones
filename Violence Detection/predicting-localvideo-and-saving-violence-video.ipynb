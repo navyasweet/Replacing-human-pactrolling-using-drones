{
 "cells": [
  {
   "cell_type": "code",
   "execution_count": 1,
   "metadata": {},
   "outputs": [
    {
     "name": "stderr",
     "output_type": "stream",
     "text": [
      "WARNING:absl:`lr` is deprecated in Keras optimizer, please use `learning_rate` or use the legacy optimizer, e.g.,tf.keras.optimizers.legacy.Adam.\n"
     ]
    },
    {
     "name": "stdout",
     "output_type": "stream",
     "text": [
      "1/1 [==============================] - 7s 7s/step\n",
      "1/1 [==============================] - 4s 4s/step\n",
      "1/1 [==============================] - 4s 4s/step\n",
      "1/1 [==============================] - 4s 4s/step\n",
      "1/1 [==============================] - 4s 4s/step\n",
      "1/1 [==============================] - 4s 4s/step\n",
      "1/1 [==============================] - 4s 4s/step\n",
      "1/1 [==============================] - 4s 4s/step\n",
      "Violence detected here...\n",
      "1/1 [==============================] - 2s 2s/step\n"
     ]
    }
   ],
   "source": [
    "from __future__ import absolute_import\n",
    "from __future__ import division\n",
    "from __future__ import print_function\n",
    "import tensorflow as tf\n",
    "import numpy as np\n",
    "from skimage.io import imread\n",
    "from skimage.transform import resize\n",
    "import cv2\n",
    "import numpy as np\n",
    "from mamonfight22 import *\n",
    "\n",
    "optimizer = tf.optimizers.RMSprop(learning_rate=0.001)\n",
    "model = mamon_videoFightModel2(tf, wight='mamonbest947oscombo.h5')\n",
    "\n",
    "cap = cv2.VideoCapture(0)  # 0 for the default webcam, or provide the camera index\n",
    "i = 0\n",
    "frames = np.zeros((30, 160, 160, 3), dtype=float)\n",
    "old = []\n",
    "j = 0\n",
    "\n",
    "out = None  # Initialize the video writer\n",
    "\n",
    "while True:\n",
    "    ret, frame = cap.read()\n",
    "\n",
    "    # describe the type of font to be used.\n",
    "    font = cv2.FONT_HERSHEY_SIMPLEX\n",
    "\n",
    "    if frame is not None:  # Check if frame is not None\n",
    "        if i > 29:\n",
    "            ysdatav2 = np.zeros((1, 30, 160, 160, 3), dtype=float)\n",
    "            ysdatav2[0][:][:] = frames\n",
    "            predaction = pred_fight(model, ysdatav2, acuracy=0.96)\n",
    "\n",
    "            if predaction[0] == True:\n",
    "                cv2.putText(frame,\n",
    "                            'Violence Detected... Violence... Violence',\n",
    "                            (50, 50),\n",
    "                            font, 3,\n",
    "                            (0, 255, 255),\n",
    "                            5,\n",
    "                            cv2.LINE_4)\n",
    "                cv2.imshow('video', frame)\n",
    "                cv2.waitKey(50000)\n",
    "                print('Violence detected here...')\n",
    "\n",
    "                if out is None:\n",
    "                    fourcc = cv2.VideoWriter_fourcc(*'XVID')\n",
    "                    out = cv2.VideoWriter(\"./videos/output-\" + str(j) + \".avi\", fourcc, 10.0, (frame.shape[1], frame.shape[0]))\n",
    "                for frameinss in old:\n",
    "                    out.write(frameinss)\n",
    "                out.release()\n",
    "                j += 1\n",
    "\n",
    "            i = 0\n",
    "            frames = np.zeros((30, 160, 160, 3), dtype=float)\n",
    "            old = []\n",
    "        else:\n",
    "            frm = resize(frame, (160, 160, 3))\n",
    "            old.append(frame)\n",
    "            fshape = frame.shape\n",
    "            fheight = fshape[0]\n",
    "            fwidth = fshape[1]\n",
    "            frm = np.expand_dims(frm, axis=0)\n",
    "            if np.max(frm) > 1:\n",
    "                frm = frm / 255.0\n",
    "            frames[i][:] = frm\n",
    "            i += 1\n",
    "\n",
    "        cv2.imshow('video', frame)\n",
    "\n",
    "    if cv2.waitKey(1) & 0xFF == ord('q'):\n",
    "        break\n",
    "\n",
    "cap.release()\n",
    "cv2.destroyAllWindows()\n"
   ]
  }
 ],
 "metadata": {
  "kernelspec": {
   "display_name": "Python 3",
   "language": "python",
   "name": "python3"
  },
  "language_info": {
   "codemirror_mode": {
    "name": "ipython",
    "version": 3
   },
   "file_extension": ".py",
   "mimetype": "text/x-python",
   "name": "python",
   "nbconvert_exporter": "python",
   "pygments_lexer": "ipython3",
   "version": "3.11.4"
  }
 },
 "nbformat": 4,
 "nbformat_minor": 2
}
